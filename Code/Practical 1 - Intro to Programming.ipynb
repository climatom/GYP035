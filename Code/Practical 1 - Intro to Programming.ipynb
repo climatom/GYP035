{
 "cells": [
  {
   "cell_type": "markdown",
   "metadata": {},
   "source": [
    "# Introduction to Programming - 1\n",
    "\n",
    "### Overview\n",
    "\n",
    "In this first 'programming' session, we will begin by addressing how to use these Ipython notebooks, and will then dive straight in to write our first code -- dealing with fundamental concepts in python, including: \n",
    "\n",
    "- Variable assignment\n",
    "- Attributes and functions\n",
    "- Loops\n",
    "- Indexing\n",
    "- Conditional statements\n",
    "\n",
    "The above list probably doesn't mean an awful lot right now, but bear with me and it should by the end of the session. Before getting in to the detail below, I should point out that I expect all of this to be new to you, so please do ask if you are unsure (that's normal!) -- I will do my best to fill in the gaps. Also, whilst following these guides will get you to where you need to be for the assessment, I should emphasise that they will not make you skilled programmers; that comes with time and patience, and a lot of practice -- and I encourage you to continue your programming efforts beyond this course if that is a direction you want your career to follow. \n",
    "\n",
    "### Using this \"notebook\"\n",
    "\n",
    "Notebooks are made of 'cells' -- which either contain text (like this one) or code. Those cells with code incan be 'run' in a variety of ways - the simplest is to hold the 'ctrl' key and press 'enter'.\n",
    "\n",
    "Note that, within code cells, I can have text that won't instruct the computer to do anything -- so long as I 'hide' that text behind the '#' character -- which indicates that text should be interpreted as a comment, $\\it{not}$ as code. In these notebooks I will use comments to provide clarity over some code, and use these text blocks (like the one you are reading) to provide more detailed explanations and instructions.  \n",
    "\n",
    "### Writing your first code\n",
    "\n",
    "We're going to begin with a bit of a programming tradition -- getting the computer to say hello. \n",
    "\n",
    "Run the code in the cell below to test that things are working. "
   ]
  },
  {
   "cell_type": "code",
   "execution_count": 1,
   "metadata": {},
   "outputs": [
    {
     "name": "stdout",
     "output_type": "stream",
     "text": [
      "Hello, World!\n"
     ]
    }
   ],
   "source": [
    "print(\"Hello, World!\")"
   ]
  },
  {
   "cell_type": "markdown",
   "metadata": {},
   "source": [
    "If you saw the greeting appear - congratulations! You have just (possibly) run your first piece of python code. To be clear, we used a $\\it{function}$ from python (called 'print') to, well, print some text to the screen. We will cover functions later; for now, just appreciate that we passed some code to the python interpreter and it did what we asked it to!\n",
    "\n",
    "\n"
   ]
  },
  {
   "cell_type": "markdown",
   "metadata": {},
   "source": [
    "### Variables\n",
    "\n",
    "\n",
    "A variable is, generally-speaking, just something that can change its 'value'. Or perhaps more flexibly, we can define a variable as some sort of \"data container\". In python, variables may also be called 'objects' (there is actually a difference between objects and variables, but that won't concern us in this course -- so we will use the terms interchangably). \n",
    "\n",
    "There are different $\\it{types}$ of variables in python. For now, we will consider four: \n",
    "\n",
    "1. Integers -- 'whole' numbers\n",
    "2. Floats -- 'floating point' numbers -- include a decimal point\n",
    "3. Strings -- text\n",
    "4. Lists -- sequence of items; a container\n",
    "\n",
    "As ususal, examples will help. Below, we'll assign the $\\it{variable}$ 'a' to different values, and see how python recognises its type. I also want you to $\\it{study}$ the code below to understand how the print function is working. \n"
   ]
  },
  {
   "cell_type": "code",
   "execution_count": 2,
   "metadata": {},
   "outputs": [
    {
     "name": "stdout",
     "output_type": "stream",
     "text": [
      "Output when 'a' is an integer...\n",
      "Value is:  1\n",
      "Type is:  <class 'int'>\n",
      "Output when 'a' is a float...\n",
      "Value is:  1.0\n",
      "Type is:  <class 'float'>\n",
      "Output when 'a' is recognised as text...\n",
      "Value is:  1\n",
      "Type is:  <class 'str'>\n",
      "Output when 'a' is a list...\n",
      "Value is:  [1, 1.0, '1']\n",
      "Type is:  <class 'list'>\n"
     ]
    }
   ],
   "source": [
    "# a will be an integer\n",
    "print(\"Output when 'a' is an integer...\")\n",
    "a=1 # we call this 'variable assignment -- a is storing the integer 1'\n",
    "print(\"Value is: \", a) # testing!\n",
    "print(\"Type is: \", type(a)) # this uses the 'type' function to check the variable type. \n",
    "\n",
    "# a will be a float\n",
    "print(\"Output when 'a' is a float...\")\n",
    "a=1.0 # a now a float...\n",
    "print(\"Value is: \", a) # testing!\n",
    "print(\"Type is: \", type(a)) # this uses the 'type' function to check the variable type\n",
    "\n",
    "# now it will be text!\n",
    "print(\"Output when 'a' is recognised as text...\")\n",
    "a='1' # a is now text because we used the apostrophes -- speech marks also work!\n",
    "print(\"Value is: \", a) # testing!\n",
    "print(\"Type is: \", type(a)) # this uses the 'type' function to check the variable type\n",
    "\n",
    "# now we will store all of these varieties in a list!\n",
    "print(\"Output when 'a' is a list...\")\n",
    "a=[1,1.0,'1'] # notice how we use the square brackets to 'group' the items in a list\n",
    "print(\"Value is: \", a) # testing!\n",
    "print(\"Type is: \", type(a)) # this uses the 'type' function to check the variable type. \n"
   ]
  },
  {
   "cell_type": "markdown",
   "metadata": {},
   "source": [
    "Hopefully this is easy enough to follow so far. Note that, for now, we can consider \"class\" (written above) to be synonymous with \"type\". \n",
    "\n",
    "The type of variable determines what we can do with it. This is intuitive: we would expect to be able to use arithmetic operations on floats and integers, but not on strings. See below for an example \n"
   ]
  },
  {
   "cell_type": "code",
   "execution_count": 3,
   "metadata": {},
   "outputs": [
    {
     "name": "stdout",
     "output_type": "stream",
     "text": [
      "0.5\n"
     ]
    },
    {
     "ename": "TypeError",
     "evalue": "unsupported operand type(s) for /: 'str' and 'float'",
     "output_type": "error",
     "traceback": [
      "\u001b[1;31m---------------------------------------------------------------------------\u001b[0m",
      "\u001b[1;31mTypeError\u001b[0m                                 Traceback (most recent call last)",
      "\u001b[1;32m<ipython-input-3-f39d123aa405>\u001b[0m in \u001b[0;36m<module>\u001b[1;34m()\u001b[0m\n\u001b[0;32m      3\u001b[0m \u001b[1;33m\u001b[0m\u001b[0m\n\u001b[0;32m      4\u001b[0m \u001b[0mprint\u001b[0m\u001b[1;33m(\u001b[0m\u001b[0ma\u001b[0m\u001b[1;33m/\u001b[0m\u001b[1;36m2.0\u001b[0m\u001b[1;33m)\u001b[0m \u001b[1;31m# Here I'm using the '/' to indicate division by 2.0 -- another float. This will work\u001b[0m\u001b[1;33m\u001b[0m\u001b[0m\n\u001b[1;32m----> 5\u001b[1;33m \u001b[0mprint\u001b[0m\u001b[1;33m(\u001b[0m\u001b[0mb\u001b[0m\u001b[1;33m/\u001b[0m\u001b[1;36m2.0\u001b[0m\u001b[1;33m)\u001b[0m \u001b[1;31m# Here I'm trying to do the same to a string variable. This will not work!\u001b[0m\u001b[1;33m\u001b[0m\u001b[0m\n\u001b[0m",
      "\u001b[1;31mTypeError\u001b[0m: unsupported operand type(s) for /: 'str' and 'float'"
     ]
    }
   ],
   "source": [
    "a=1.0\n",
    "b=\"1.0\"\n",
    "\n",
    "print(a/2.0) # Here I'm using the '/' to indicate division by 2.0 -- another float. This will work\n",
    "print(b/2.0) # Here I'm trying to do the same to a string variable. This will not work!"
   ]
  },
  {
   "cell_type": "markdown",
   "metadata": {},
   "source": [
    "This, quite possibly, was the first of many python errors you will make. But, fear-not. The world does not end because of such \"bugs\" -- we can quickly fix issues and keep going. That is how programming works. In this case the error text should be understandable from the preceding explanation: \n",
    "\n",
    "\"TypeError: unsupported operand type(s) for /: 'str' and 'float'\" -- it's saying the operation '/' (divide) is not 'supported' for the combination of 'str' and 'float' types\" \n",
    "\n",
    "Pay attention to the error messages you'll get; they may be abrupt and appear cryptic at first, but they are telling you exactly what the problem is.\n",
    "\n",
    "### Attributes and functions\n",
    "\n",
    "What you can and cannot do with different types brings us on to an important feature of python -- and the \"grammar\" of programming. In this language we can use the \".\" to \"do\" things with, or find out things about, our variable. Technically, anything behind the \".\" is an $\\it{attribute}$ of that variable. Some attributes are just bits of information (like the size in memory of that variable); others are $\\it{methods}$ -- which enable us to \"do things\" to that variable. A method is also called a $\\it{function}$, and we will cover these in a moment. First, I'll show you what I mean about using the \".\""
   ]
  },
  {
   "cell_type": "code",
   "execution_count": null,
   "metadata": {},
   "outputs": [],
   "source": [
    "a=[1,2,\"3\"] # this is a list\n",
    "b=1 # this is an integer \n",
    "\n",
    "# Let's append the float 4 to a (a list)\n",
    "a.append(4.0) # here, append() is the method belonging to the list, and the float 4.0 is an 'argument' for that method\n",
    "# Now let's see what a looks like now..\n",
    "print(\"here is the 'new' version of list a: \",a)\n",
    "\n",
    "# Let's also try using the append method for b (which is an integer)\n",
    "b.append(4.0) # this won't work, so I won't even try to print anything out...\n",
    "\n"
   ]
  },
  {
   "cell_type": "markdown",
   "metadata": {},
   "source": [
    "See! The \"append\" method is something only available to a list type. This is intuitive -- how would you 'append' the number 4.0 to the integer 1!? \n",
    "\n",
    "So - two things to appreciate: \n",
    "\n",
    "(1) Variables have attributes, and which attributes are available depends on the variable's type \n",
    "\n",
    "(2) Methods/functions can \"do something\". This latter point may sound totally abstract, but think about what happened above: the python interpreter knew that a.append(4.0) meant insert '4.0' at the end of the list. In other words, python did this:\n",
    "\n",
    "a = [1,2,\"3\",4.0]\n",
    "\n",
    "it redefined 'a' behind the scenes to include the original items, and add on the argument you indicated in brackets (4.0) when 'append' was called.\n",
    "\n",
    "Methods/functions are incredibly powerful. They enable us to use code written by the many other programmers out there to make our life easier. In this course, you will not write many functions, but you will use lots contributed by others. To illustrate what a function is, I will write one below, and then call it to add up all numbers in list 'a'.  \n"
   ]
  },
  {
   "cell_type": "code",
   "execution_count": null,
   "metadata": {},
   "outputs": [],
   "source": [
    "# Here I am defining the function called 'add_nums\n",
    "# -------------------------------------------------'\n",
    "def add_nums(input_list):\n",
    "    \n",
    "    assert isinstance(input_list,list), \"Input must be a list!\"\n",
    "    \n",
    "    run_total=0\n",
    "    \n",
    "    for i in input_list:\n",
    "        \n",
    "        if isinstance(i,int) or isinstance(i,float):\n",
    "            \n",
    "            run_total = run_total+i\n",
    "            \n",
    "    return run_total\n",
    "# -------------------------------------------------'\n",
    "\n",
    "# Below I will 'call' the function. The output (sum of all numbers in the\n",
    "# list) will be returned to the variable called 'total'\n",
    "total=add_nums(a) \n",
    "\n",
    "# And now the usual check...\n",
    "print(\"total is: \", total)"
   ]
  },
  {
   "cell_type": "markdown",
   "metadata": {},
   "source": [
    "There is lots going on in the above, so let's pause and inspect some of the main features that are important for your understanding. \n",
    "\n",
    "(1) The function here is called ( when we write total = add_nums() ) even though it isn't behind the \".\" -- that's fine. When we do that, we tend to use the name 'function', and when we use the \".\" we call it a method! This may seem a bit confusing, but rememeber that the \".\" just allows us to access some things (attributes) that belong to a variable -- some other programmers have already 'attached' some functions to some variables.  \n",
    "\n",
    "(2) The function accepts a single argument (list) and returns a variable called 'run_total'. \n",
    "\n",
    "(3) The bulk of the code inside the function definition is made up of a loop (the for ... bit) and a conditional statement (the if ...) bit. Whilst you don't need to follow all the code in the above, loops and conditional statements are so common/important that we should learn about them now. \n",
    "\n",
    "### Looping\n",
    "\n",
    "The most common type of loop in python is the 'for' loop. This instructs python to take on a sequence of values. So when I use the the syntax 'for i in list:' I'm telling python to make i equal to the first item in the list, then equal to the second item, and so forth. The following code should help illustrate. "
   ]
  },
  {
   "cell_type": "code",
   "execution_count": null,
   "metadata": {},
   "outputs": [],
   "source": [
    "# Remember that 'a' is already a list -- we defined it earlier\n",
    "for i in a: \n",
    "    print(i)"
   ]
  },
  {
   "cell_type": "markdown",
   "metadata": {},
   "source": [
    "Hopefully that's intuitive. Note that the loop will have 4 $\\it{iterations}$ because there are 4 items in the list. Something that's subtle but important is that python will do whatever is in the indented block at each iteration. This indentation is how python recognises what tasks should be repeated within a loop; by ending the indentation (aligning the text to the left again) we indicate where the loop ends. \n",
    "\n",
    "We can make python iterate many times by giving it a very long list of numbers. For example, below I'm going to get python to iterate 1,000,000 times. I do this by using the 'range' and 'list' functions (which are both already recognised by python -- they 'come with' the language). This returns a list with numbers from 0-->x, where 'x' is the integer I provide to the inner range function. Run the code below to see this in action."
   ]
  },
  {
   "cell_type": "code",
   "execution_count": null,
   "metadata": {},
   "outputs": [],
   "source": [
    "long_list=list(range(1000000)) # creates list with 1,000,000 items in long_list. Numbers will be 0-->999999\n",
    "j=0\n",
    "k=0\n",
    "for i in long_list:\n",
    "    j = j + 1 # this will be done 1,000,000 times. \n",
    "# end of loop \n",
    "k = k + 1 # this is done once - it is outside the loop\n",
    "print(\"j is: \",j)\n",
    "print(\"k is: \",k)"
   ]
  },
  {
   "cell_type": "markdown",
   "metadata": {},
   "source": [
    "Make sure you study the above before moving on. You should understand why j and k take on the values that they do. "
   ]
  },
  {
   "cell_type": "markdown",
   "metadata": {},
   "source": [
    "### Indexing\n",
    "\n",
    "We have a very long list (called, long_list). How can we access different elements of that list (for example, the 100th, value)?\n",
    "The answer is through 'indexing'. At its simplest (which is a good place to start), we 'index' an iterable (like a list) using the square brackets -> [ ] to indicate which position we want to access. A little confusingly, python refers to the first position as 0 -- not 1. For example long_list[5] returns the 6th element. Run the code below to see this in action, and *change* the value of the variable 'idx' (between 0 and 10) to pull out different items in the list.   "
   ]
  },
  {
   "cell_type": "code",
   "execution_count": null,
   "metadata": {},
   "outputs": [],
   "source": [
    "idx=10 # <-- experiment by changing this value -- but set to a maximum of 10. \n",
    "item=long_list[position]\n",
    "# The code below is just to show you what's going on. No need to change it. \n",
    "print(\"long_list index [\",position,\"] is equal to \",position)\n",
    "print(\"Check for yourself - first \", idx+1, \"items are shown below...\")\n",
    "print(long_list[:idx+1]) # This is 'fancy' indexing -- long_list[:idx+1] chops out the first idx+1 items for display"
   ]
  },
  {
   "cell_type": "markdown",
   "metadata": {},
   "source": [
    "Again, make sure you understand the output (and principle) above before you try to move on. \n",
    "\n",
    "### Conditional statements \n",
    "\n",
    "We are now going to apply what we have learned about looping to help us understand \"conditional statements\" -- which are pretty intuitive (according to me). They  test to see whether a certain 'condition' is met -- and this informs what the program does next. The most common form in which you will encounter such conditionals is through the \"if\" statment. As usual, an example should make things clear. Below, we are going to loop over all items in long_list and check the value of each item. The program will then print some text, depending on whether the item we are checking is less than 5, equal to 5, or more than 5 and less than 8. This sounds complicated, but it allows us to explore several parts of the wonderful \"if\" statement...\n",
    "\n"
   ]
  },
  {
   "cell_type": "code",
   "execution_count": null,
   "metadata": {},
   "outputs": [],
   "source": [
    "counter=0\n",
    "for i in long_list:\n",
    "    \n",
    "    # Notice that we are indented here because we are inside a loop\n",
    "    if i <5: \n",
    "        \n",
    "        # We are indented here because we are inside an if statment. Whatever is in the indented \n",
    "        # code block here will be executed whenever the conditional statement is met (when i<5)\n",
    "        print(\"i is less than 5. It is equal to: \",i)\n",
    "    \n",
    "    # elif is short for 'else if' -- python checks this only if the above if statement is false\n",
    "    elif i == 5: # note that we use a double equals sign. This is necessary because a single \"=\" has the effect of assigning \n",
    "                 # a value (i.e. i = 5 makes i take on the value 5!)\n",
    "        \n",
    "        print (\"i is now equal to 5 (you see i = \",i,\")\")\n",
    "    \n",
    "    # our third option -- python checks this only if the other two conditional statements above \n",
    "    # are false\n",
    "    elif i >5 and i<8: # notice the use of \"and\" to test for multiple conditions. \n",
    "        \n",
    "        print (\"apparently i is now between 5 and 8. Is it? (i = \", i,\")\")\n",
    "        \n",
    "        \n",
    "    # whatever code I write here executes at every iteration (because I have stopped indenting my code inside conditional\n",
    "    # statments). This means counter should end up with a value of 1,000,000 -- as it is incremented by 1 on each iteration\n",
    "    counter = counter+1\n",
    "    \n",
    "print(\"The value of 'counter' is:\",counter)"
   ]
  },
  {
   "cell_type": "markdown",
   "metadata": {},
   "source": [
    "## Consolidating your learning\n",
    "\n",
    "We have covered a lot of ground so far, but it has mostly involved you just reading and running my code. In order for you to pick up python, you're going to need practice, so let's start now. \n",
    "\n",
    "Your task is to write some code that: \n",
    "\n",
    "- creates a list filled with the numbers from 0 to 50\n",
    "- loops over all items in the list \n",
    "- prints messages of your choice when the loop has the 5th and 25th items in the list\n",
    "\n",
    "To help you do this, re-read the examples above, and copy/paste/edit code as appropriate. Please have your code/output checked before you leave. \n",
    "\n",
    "### Tip: \n",
    "You $\\it{can}$ get away with editing my code in the cells above, but you may find it neater and easier to follow if you create new cells below and copy/paste/edit code segments in there. To add a new cell, go to Insert --> Cell --> Insert Cell Below (accessed from the main ribbon, top-of-screen). \n"
   ]
  },
  {
   "cell_type": "markdown",
   "metadata": {},
   "source": []
  }
 ],
 "metadata": {
  "kernelspec": {
   "display_name": "Python 3",
   "language": "python",
   "name": "python3"
  },
  "language_info": {
   "codemirror_mode": {
    "name": "ipython",
    "version": 3
   },
   "file_extension": ".py",
   "mimetype": "text/x-python",
   "name": "python",
   "nbconvert_exporter": "python",
   "pygments_lexer": "ipython3",
   "version": "3.7.0"
  }
 },
 "nbformat": 4,
 "nbformat_minor": 2
}
